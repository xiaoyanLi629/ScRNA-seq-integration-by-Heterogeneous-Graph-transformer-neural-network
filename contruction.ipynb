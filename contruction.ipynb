{
 "cells": [
  {
   "cell_type": "code",
   "execution_count": 1,
   "id": "0425d97b-3fab-4909-8f7c-f7afffc268bf",
   "metadata": {},
   "outputs": [
    {
     "name": "stderr",
     "output_type": "stream",
     "text": [
      "Using backend: pytorch\n"
     ]
    }
   ],
   "source": [
    "import gzip\n",
    "import dgl\n",
    "import pickle\n",
    "import torch as th\n",
    "import torch\n",
    "import random\n",
    "import numpy as np\n",
    "import torch.nn as nn\n",
    "import pandas as pd\n",
    "import scipy.sparse as sp\n",
    "import torch.nn as nn\n",
    "import dgl.nn.pytorch as dglnn\n",
    "import time\n",
    "import concurrent.futures\n",
    "import multiprocessing\n",
    "from dgl.data.utils import save_graphs\n",
    "from io import StringIO\n",
    "from functools import partial\n",
    "import torch.nn.functional as F\n",
    "from sklearn.metrics.pairwise import euclidean_distances\n"
   ]
  },
  {
   "cell_type": "code",
   "execution_count": 2,
   "id": "9a657565",
   "metadata": {},
   "outputs": [],
   "source": [
    "manager = multiprocessing.Manager()"
   ]
  },
  {
   "cell_type": "code",
   "execution_count": 3,
   "id": "23d19a98-7a83-462e-9e8d-ce0ba2c214ec",
   "metadata": {},
   "outputs": [
    {
     "name": "stdout",
     "output_type": "stream",
     "text": [
      "cuda is available\n"
     ]
    }
   ],
   "source": [
    "device = th.device(\"cuda\" if th.cuda.is_available() else \"cpu\")\n",
    "print(device, 'is available')"
   ]
  },
  {
   "cell_type": "code",
   "execution_count": 4,
   "id": "67c93767-eefc-40d9-bf2f-c0bc9d5c0a8e",
   "metadata": {},
   "outputs": [],
   "source": [
    "def set_random(random_seed = 1):\n",
    "    random.seed(random_seed)\n",
    "    np.random.seed(random_seed)\n",
    "    torch.manual_seed(random_seed)\n",
    "    dgl.seed(random_seed)\n",
    "    if device == 'cuda':\n",
    "        torch.cuda.manual_seed(random_seed)\n",
    "set_random()"
   ]
  },
  {
   "cell_type": "markdown",
   "id": "18bac2e2-5de1-4fa5-9baa-b0998a2385f9",
   "metadata": {},
   "source": [
    "Read and preprogress the reference and query datasets"
   ]
  },
  {
   "cell_type": "code",
   "execution_count": 5,
   "id": "a6240352-c506-4be3-9e49-31f0163dffd9",
   "metadata": {},
   "outputs": [],
   "source": [
    "Brain_3_annot = pd.read_csv('Fetal-Brain3_Anno.csv', index_col=0)  # (gene, cell)"
   ]
  },
  {
   "cell_type": "code",
   "execution_count": 6,
   "id": "dc5a58c5-8cbf-41ca-89bb-f1dffcf3d740",
   "metadata": {},
   "outputs": [
    {
     "name": "stdout",
     "output_type": "stream",
     "text": [
      "Brain 3 has 15083 genes and 2904 cells\n"
     ]
    }
   ],
   "source": [
    "with gzip.open('Fetal-Brain3_dge.txt.gz', 'rb') as f:\n",
    "    file_content = f.read()\n",
    "    data = StringIO(str(file_content, 'utf-8'))\n",
    "Brain_3_X = pd.read_csv(data)\n",
    "print(f'Brain 3 has {Brain_3_X.shape[0]} genes and {Brain_3_X.shape[1]-1} cells')"
   ]
  },
  {
   "cell_type": "code",
   "execution_count": 7,
   "id": "95d97759-48bb-41da-9330-807fbc0736fc",
   "metadata": {},
   "outputs": [
    {
     "data": {
      "text/html": [
       "<div>\n",
       "<style scoped>\n",
       "    .dataframe tbody tr th:only-of-type {\n",
       "        vertical-align: middle;\n",
       "    }\n",
       "\n",
       "    .dataframe tbody tr th {\n",
       "        vertical-align: top;\n",
       "    }\n",
       "\n",
       "    .dataframe thead th {\n",
       "        text-align: right;\n",
       "    }\n",
       "</style>\n",
       "<table border=\"1\" class=\"dataframe\">\n",
       "  <thead>\n",
       "    <tr style=\"text-align: right;\">\n",
       "      <th></th>\n",
       "      <th>Gene_name</th>\n",
       "      <th>FetalBrain_3.CTCGCACCTAGAGAGGAG</th>\n",
       "      <th>FetalBrain_3.CTCGCACCGACGATTTGC</th>\n",
       "      <th>FetalBrain_3.CTCGCATAAGGGATACAG</th>\n",
       "      <th>FetalBrain_3.CTCGCAACAATAGTCGGT</th>\n",
       "      <th>FetalBrain_3.GAGGAGCGGCAGCGTATT</th>\n",
       "      <th>FetalBrain_3.ACAATACCTAGAACACCC</th>\n",
       "      <th>FetalBrain_3.AACCTAATTTGCTTCCGC</th>\n",
       "      <th>FetalBrain_3.ACTTATAACGCCGACACT</th>\n",
       "      <th>FetalBrain_3.GCCCTCACACCCTCAAAG</th>\n",
       "      <th>...</th>\n",
       "      <th>FetalBrain_3.TGCGGATAGAGAGAGATC</th>\n",
       "      <th>FetalBrain_3.ACCTGAGTCGGTACGTTG</th>\n",
       "      <th>FetalBrain_3.ACGTTGGAATTAAACCTA</th>\n",
       "      <th>FetalBrain_3.TCACTTGTCGGTACGTTG</th>\n",
       "      <th>FetalBrain_3.GTAATGCTTCTGGAACGC</th>\n",
       "      <th>FetalBrain_3.CTCCATACCTGAGTCGGT</th>\n",
       "      <th>FetalBrain_3.AAGCGGTCTACCCCATCT</th>\n",
       "      <th>FetalBrain_3.AGTTTAGTGGTATGATCA</th>\n",
       "      <th>FetalBrain_3.CTCGCAAACGCCGTCGGT</th>\n",
       "      <th>FetalBrain_3.AAGCGGTAGTCGCTTCTG</th>\n",
       "    </tr>\n",
       "  </thead>\n",
       "  <tbody>\n",
       "    <tr>\n",
       "      <th>0</th>\n",
       "      <td>A2M</td>\n",
       "      <td>0</td>\n",
       "      <td>0</td>\n",
       "      <td>0</td>\n",
       "      <td>0</td>\n",
       "      <td>0</td>\n",
       "      <td>0</td>\n",
       "      <td>0</td>\n",
       "      <td>1</td>\n",
       "      <td>0</td>\n",
       "      <td>...</td>\n",
       "      <td>0</td>\n",
       "      <td>0</td>\n",
       "      <td>0</td>\n",
       "      <td>0</td>\n",
       "      <td>0</td>\n",
       "      <td>0</td>\n",
       "      <td>0</td>\n",
       "      <td>0</td>\n",
       "      <td>0</td>\n",
       "      <td>0</td>\n",
       "    </tr>\n",
       "    <tr>\n",
       "      <th>1</th>\n",
       "      <td>AAAS</td>\n",
       "      <td>0</td>\n",
       "      <td>0</td>\n",
       "      <td>0</td>\n",
       "      <td>0</td>\n",
       "      <td>0</td>\n",
       "      <td>0</td>\n",
       "      <td>0</td>\n",
       "      <td>0</td>\n",
       "      <td>1</td>\n",
       "      <td>...</td>\n",
       "      <td>0</td>\n",
       "      <td>0</td>\n",
       "      <td>0</td>\n",
       "      <td>0</td>\n",
       "      <td>0</td>\n",
       "      <td>0</td>\n",
       "      <td>0</td>\n",
       "      <td>0</td>\n",
       "      <td>0</td>\n",
       "      <td>0</td>\n",
       "    </tr>\n",
       "    <tr>\n",
       "      <th>2</th>\n",
       "      <td>AACS</td>\n",
       "      <td>0</td>\n",
       "      <td>0</td>\n",
       "      <td>0</td>\n",
       "      <td>0</td>\n",
       "      <td>0</td>\n",
       "      <td>0</td>\n",
       "      <td>0</td>\n",
       "      <td>0</td>\n",
       "      <td>0</td>\n",
       "      <td>...</td>\n",
       "      <td>0</td>\n",
       "      <td>0</td>\n",
       "      <td>0</td>\n",
       "      <td>0</td>\n",
       "      <td>0</td>\n",
       "      <td>0</td>\n",
       "      <td>0</td>\n",
       "      <td>0</td>\n",
       "      <td>0</td>\n",
       "      <td>0</td>\n",
       "    </tr>\n",
       "    <tr>\n",
       "      <th>3</th>\n",
       "      <td>AADAT</td>\n",
       "      <td>0</td>\n",
       "      <td>0</td>\n",
       "      <td>0</td>\n",
       "      <td>0</td>\n",
       "      <td>0</td>\n",
       "      <td>0</td>\n",
       "      <td>0</td>\n",
       "      <td>0</td>\n",
       "      <td>0</td>\n",
       "      <td>...</td>\n",
       "      <td>0</td>\n",
       "      <td>0</td>\n",
       "      <td>0</td>\n",
       "      <td>0</td>\n",
       "      <td>0</td>\n",
       "      <td>0</td>\n",
       "      <td>0</td>\n",
       "      <td>0</td>\n",
       "      <td>0</td>\n",
       "      <td>0</td>\n",
       "    </tr>\n",
       "    <tr>\n",
       "      <th>4</th>\n",
       "      <td>AAED1</td>\n",
       "      <td>0</td>\n",
       "      <td>0</td>\n",
       "      <td>0</td>\n",
       "      <td>0</td>\n",
       "      <td>0</td>\n",
       "      <td>0</td>\n",
       "      <td>0</td>\n",
       "      <td>0</td>\n",
       "      <td>0</td>\n",
       "      <td>...</td>\n",
       "      <td>0</td>\n",
       "      <td>0</td>\n",
       "      <td>0</td>\n",
       "      <td>0</td>\n",
       "      <td>0</td>\n",
       "      <td>0</td>\n",
       "      <td>0</td>\n",
       "      <td>0</td>\n",
       "      <td>0</td>\n",
       "      <td>0</td>\n",
       "    </tr>\n",
       "  </tbody>\n",
       "</table>\n",
       "<p>5 rows × 2905 columns</p>\n",
       "</div>"
      ],
      "text/plain": [
       "  Gene_name  FetalBrain_3.CTCGCACCTAGAGAGGAG  FetalBrain_3.CTCGCACCGACGATTTGC  \\\n",
       "0       A2M                                0                                0   \n",
       "1      AAAS                                0                                0   \n",
       "2      AACS                                0                                0   \n",
       "3     AADAT                                0                                0   \n",
       "4     AAED1                                0                                0   \n",
       "\n",
       "   FetalBrain_3.CTCGCATAAGGGATACAG  FetalBrain_3.CTCGCAACAATAGTCGGT  \\\n",
       "0                                0                                0   \n",
       "1                                0                                0   \n",
       "2                                0                                0   \n",
       "3                                0                                0   \n",
       "4                                0                                0   \n",
       "\n",
       "   FetalBrain_3.GAGGAGCGGCAGCGTATT  FetalBrain_3.ACAATACCTAGAACACCC  \\\n",
       "0                                0                                0   \n",
       "1                                0                                0   \n",
       "2                                0                                0   \n",
       "3                                0                                0   \n",
       "4                                0                                0   \n",
       "\n",
       "   FetalBrain_3.AACCTAATTTGCTTCCGC  FetalBrain_3.ACTTATAACGCCGACACT  \\\n",
       "0                                0                                1   \n",
       "1                                0                                0   \n",
       "2                                0                                0   \n",
       "3                                0                                0   \n",
       "4                                0                                0   \n",
       "\n",
       "   FetalBrain_3.GCCCTCACACCCTCAAAG  ...  FetalBrain_3.TGCGGATAGAGAGAGATC  \\\n",
       "0                                0  ...                                0   \n",
       "1                                1  ...                                0   \n",
       "2                                0  ...                                0   \n",
       "3                                0  ...                                0   \n",
       "4                                0  ...                                0   \n",
       "\n",
       "   FetalBrain_3.ACCTGAGTCGGTACGTTG  FetalBrain_3.ACGTTGGAATTAAACCTA  \\\n",
       "0                                0                                0   \n",
       "1                                0                                0   \n",
       "2                                0                                0   \n",
       "3                                0                                0   \n",
       "4                                0                                0   \n",
       "\n",
       "   FetalBrain_3.TCACTTGTCGGTACGTTG  FetalBrain_3.GTAATGCTTCTGGAACGC  \\\n",
       "0                                0                                0   \n",
       "1                                0                                0   \n",
       "2                                0                                0   \n",
       "3                                0                                0   \n",
       "4                                0                                0   \n",
       "\n",
       "   FetalBrain_3.CTCCATACCTGAGTCGGT  FetalBrain_3.AAGCGGTCTACCCCATCT  \\\n",
       "0                                0                                0   \n",
       "1                                0                                0   \n",
       "2                                0                                0   \n",
       "3                                0                                0   \n",
       "4                                0                                0   \n",
       "\n",
       "   FetalBrain_3.AGTTTAGTGGTATGATCA  FetalBrain_3.CTCGCAAACGCCGTCGGT  \\\n",
       "0                                0                                0   \n",
       "1                                0                                0   \n",
       "2                                0                                0   \n",
       "3                                0                                0   \n",
       "4                                0                                0   \n",
       "\n",
       "   FetalBrain_3.AAGCGGTAGTCGCTTCTG  \n",
       "0                                0  \n",
       "1                                0  \n",
       "2                                0  \n",
       "3                                0  \n",
       "4                                0  \n",
       "\n",
       "[5 rows x 2905 columns]"
      ]
     },
     "execution_count": 7,
     "metadata": {},
     "output_type": "execute_result"
    }
   ],
   "source": [
    "Brain_3_X.rename( columns={'Unnamed: 0':'Gene_name'}, inplace=True )\n",
    "Brain_3_X[:5]"
   ]
  },
  {
   "cell_type": "code",
   "execution_count": 13,
   "metadata": {},
   "outputs": [
    {
     "data": {
      "text/plain": [
       "0      A2M\n",
       "1     AAAS\n",
       "2     AACS\n",
       "3    AADAT\n",
       "4    AAED1\n",
       "Name: Gene_name, dtype: object"
      ]
     },
     "execution_count": 13,
     "metadata": {},
     "output_type": "execute_result"
    }
   ],
   "source": [
    "Brain_3_X['Gene_name'][:5]"
   ]
  },
  {
   "cell_type": "code",
   "execution_count": 14,
   "id": "a9bcb5b1-92cd-4f93-92f2-d8e2def77a50",
   "metadata": {},
   "outputs": [],
   "source": [
    "Brain_3_set = set(Brain_3_X['Gene_name'])"
   ]
  },
  {
   "cell_type": "code",
   "execution_count": 15,
   "id": "0214c63e-47fb-47b6-8c4f-071c4aa3a681",
   "metadata": {},
   "outputs": [
    {
     "name": "stdout",
     "output_type": "stream",
     "text": [
      "Brain 4 has 15846 genes and 3920 cells\n"
     ]
    }
   ],
   "source": [
    "Brain_4_annot = pd.read_csv('Fetal-Brain4_Anno.csv', index_col=0)  # (gene, cell)\n",
    "with gzip.open('Fetal-Brain4_dge.txt.gz', 'rb') as f:\n",
    "    file_content = f.read()\n",
    "    data = StringIO(str(file_content, 'utf-8'))\n",
    "Brain_4_X = pd.read_csv(data)\n",
    "print(f'Brain 4 has {Brain_4_X.shape[0]} genes and {Brain_4_X.shape[1]-1} cells')"
   ]
  },
  {
   "cell_type": "code",
   "execution_count": 16,
   "id": "bb79e4ea-2c37-47a0-95ec-08b435639941",
   "metadata": {},
   "outputs": [],
   "source": [
    "Brain_4_X.rename( columns={'Unnamed: 0':'Gene_name'}, inplace=True )\n",
    "# Brain_4_X[:5]"
   ]
  },
  {
   "cell_type": "code",
   "execution_count": 17,
   "id": "44f85679-6f0f-407e-837a-0d702e8afa7f",
   "metadata": {},
   "outputs": [],
   "source": [
    "Brain_4_set = set(Brain_4_X['Gene_name'])"
   ]
  },
  {
   "cell_type": "code",
   "execution_count": 18,
   "id": "79ed46b4-1334-495a-a64b-580eca8ca713",
   "metadata": {},
   "outputs": [],
   "source": [
    "inter_gene_set = Brain_3_set & Brain_4_set"
   ]
  },
  {
   "cell_type": "code",
   "execution_count": 21,
   "metadata": {},
   "outputs": [
    {
     "data": {
      "text/plain": [
       "['MMP2', 'CACFD1', 'HERC4', 'PTDSS1', 'NHP2']"
      ]
     },
     "execution_count": 21,
     "metadata": {},
     "output_type": "execute_result"
    }
   ],
   "source": [
    "inter_gene_list = sorted(list(inter_gene_set))\n",
    "inter_gene_list[0:5]"
   ]
  },
  {
   "cell_type": "code",
   "execution_count": 22,
   "metadata": {},
   "outputs": [],
   "source": [
    "with open('inter_gene_list.pkl', 'wb') as f:\n",
    "\tpickle.dump(inter_gene_list, f)"
   ]
  },
  {
   "cell_type": "code",
   "execution_count": 13,
   "id": "4b89112d-b00d-4699-82f5-876290b81a65",
   "metadata": {},
   "outputs": [
    {
     "name": "stdout",
     "output_type": "stream",
     "text": [
      "length of Brain_3_set: 15083\n",
      "length of Brain_4_set: 15846\n",
      "length of inter_gene_set: 13993\n"
     ]
    }
   ],
   "source": [
    "print('length of Brain_3_set:', len(Brain_3_set))\n",
    "print('length of Brain_4_set:', len(Brain_4_set))\n",
    "print('length of inter_gene_set:', len(inter_gene_set))"
   ]
  },
  {
   "cell_type": "markdown",
   "id": "98df88fa-4595-4a2f-a8ee-23f74ce2c1e5",
   "metadata": {},
   "source": [
    "process data to remove non-common genes"
   ]
  },
  {
   "cell_type": "code",
   "execution_count": 14,
   "id": "6cda334d-e741-46a5-94e3-31c1036bebd6",
   "metadata": {},
   "outputs": [
    {
     "name": "stdout",
     "output_type": "stream",
     "text": [
      "Brain drop 3 has 13993 genes and 2904 cells\n",
      "Brain drop 4 has 13993 genes and 3920 cells\n",
      "Reading data finished in 26.23937341902638 seconds\n"
     ]
    }
   ],
   "source": [
    "start = time.perf_counter()\n",
    "uncommon_gene_row = set()\n",
    "for i in range(len(Brain_3_X)):\n",
    "    gene = Brain_3_X.iloc[i][0]\n",
    "    if gene not in inter_gene_set:\n",
    "        uncommon_gene_row.add(i)\n",
    "Brain_3_X_drop = Brain_3_X.drop(list(uncommon_gene_row))\n",
    "Brain_3_X_drop = Brain_3_X_drop.sort_values(by = 'Gene_name')\n",
    "\n",
    "\n",
    "uncommon_gene_row = set()\n",
    "for i in range(len(Brain_4_X)):\n",
    "    gene = Brain_4_X.iloc[i][0]\n",
    "    if gene not in inter_gene_set:\n",
    "        uncommon_gene_row.add(i)\n",
    "Brain_4_X_drop = Brain_4_X.drop(list(uncommon_gene_row))\n",
    "Brain_4_X_drop = Brain_4_X_drop.sort_values(by = 'Gene_name')\n",
    "\n",
    "# print('Brain_3_X_drop shape:', Brain_3_X_drop.shape)\n",
    "# print('Brain_4_X_drop shape:', Brain_4_X_drop.shape)\n",
    "print(f'Brain drop 3 has {Brain_3_X_drop.shape[0]} genes and {Brain_3_X_drop.shape[1]-1} cells')\n",
    "print(f'Brain drop 4 has {Brain_4_X_drop.shape[0]} genes and {Brain_4_X_drop.shape[1]-1} cells')\n",
    "\n",
    "end = time.perf_counter()\n",
    "print(f'Reading data finished in {end-start} seconds')"
   ]
  },
  {
   "cell_type": "code",
   "execution_count": 15,
   "id": "a2a8125a-1044-4a35-be4f-1ed646bdaf87",
   "metadata": {},
   "outputs": [
    {
     "data": {
      "text/html": [
       "<div>\n",
       "<style scoped>\n",
       "    .dataframe tbody tr th:only-of-type {\n",
       "        vertical-align: middle;\n",
       "    }\n",
       "\n",
       "    .dataframe tbody tr th {\n",
       "        vertical-align: top;\n",
       "    }\n",
       "\n",
       "    .dataframe thead th {\n",
       "        text-align: right;\n",
       "    }\n",
       "</style>\n",
       "<table border=\"1\" class=\"dataframe\">\n",
       "  <thead>\n",
       "    <tr style=\"text-align: right;\">\n",
       "      <th></th>\n",
       "      <th>Gene_name</th>\n",
       "      <th>FetalBrain_3.CTCGCACCTAGAGAGGAG</th>\n",
       "      <th>FetalBrain_3.CTCGCACCGACGATTTGC</th>\n",
       "      <th>FetalBrain_3.CTCGCATAAGGGATACAG</th>\n",
       "      <th>FetalBrain_3.CTCGCAACAATAGTCGGT</th>\n",
       "    </tr>\n",
       "  </thead>\n",
       "  <tbody>\n",
       "    <tr>\n",
       "      <th>0</th>\n",
       "      <td>A2M</td>\n",
       "      <td>0</td>\n",
       "      <td>0</td>\n",
       "      <td>0</td>\n",
       "      <td>0</td>\n",
       "    </tr>\n",
       "    <tr>\n",
       "      <th>1</th>\n",
       "      <td>AAAS</td>\n",
       "      <td>0</td>\n",
       "      <td>0</td>\n",
       "      <td>0</td>\n",
       "      <td>0</td>\n",
       "    </tr>\n",
       "    <tr>\n",
       "      <th>2</th>\n",
       "      <td>AACS</td>\n",
       "      <td>0</td>\n",
       "      <td>0</td>\n",
       "      <td>0</td>\n",
       "      <td>0</td>\n",
       "    </tr>\n",
       "    <tr>\n",
       "      <th>3</th>\n",
       "      <td>AADAT</td>\n",
       "      <td>0</td>\n",
       "      <td>0</td>\n",
       "      <td>0</td>\n",
       "      <td>0</td>\n",
       "    </tr>\n",
       "    <tr>\n",
       "      <th>4</th>\n",
       "      <td>AAED1</td>\n",
       "      <td>0</td>\n",
       "      <td>0</td>\n",
       "      <td>0</td>\n",
       "      <td>0</td>\n",
       "    </tr>\n",
       "  </tbody>\n",
       "</table>\n",
       "</div>"
      ],
      "text/plain": [
       "  Gene_name  FetalBrain_3.CTCGCACCTAGAGAGGAG  FetalBrain_3.CTCGCACCGACGATTTGC  \\\n",
       "0       A2M                                0                                0   \n",
       "1      AAAS                                0                                0   \n",
       "2      AACS                                0                                0   \n",
       "3     AADAT                                0                                0   \n",
       "4     AAED1                                0                                0   \n",
       "\n",
       "   FetalBrain_3.CTCGCATAAGGGATACAG  FetalBrain_3.CTCGCAACAATAGTCGGT  \n",
       "0                                0                                0  \n",
       "1                                0                                0  \n",
       "2                                0                                0  \n",
       "3                                0                                0  \n",
       "4                                0                                0  "
      ]
     },
     "execution_count": 15,
     "metadata": {},
     "output_type": "execute_result"
    }
   ],
   "source": [
    "Brain_3_X_drop.iloc[0:5, 0:5]"
   ]
  },
  {
   "cell_type": "code",
   "execution_count": 16,
   "id": "700934da-02e6-4306-8478-b58d55460388",
   "metadata": {},
   "outputs": [],
   "source": [
    "# Brain_3_X_sort = Brain_3_X_drop.sort_index(axis = 1, ascending = False)\n",
    "# Brain_3_X_sort.iloc[0:5, 0:5]"
   ]
  },
  {
   "cell_type": "code",
   "execution_count": 17,
   "id": "4adb52a4-8005-4d13-83d6-946538c84903",
   "metadata": {},
   "outputs": [
    {
     "data": {
      "text/html": [
       "<div>\n",
       "<style scoped>\n",
       "    .dataframe tbody tr th:only-of-type {\n",
       "        vertical-align: middle;\n",
       "    }\n",
       "\n",
       "    .dataframe tbody tr th {\n",
       "        vertical-align: top;\n",
       "    }\n",
       "\n",
       "    .dataframe thead th {\n",
       "        text-align: right;\n",
       "    }\n",
       "</style>\n",
       "<table border=\"1\" class=\"dataframe\">\n",
       "  <thead>\n",
       "    <tr style=\"text-align: right;\">\n",
       "      <th></th>\n",
       "      <th>Gene_name</th>\n",
       "      <th>FetalBrain_4.GCAGGAAGGACTATACAG</th>\n",
       "      <th>FetalBrain_4.ATACAGAGGACTAAAGTT</th>\n",
       "      <th>FetalBrain_4.CTCCATAAAGTTGTCGGT</th>\n",
       "      <th>FetalBrain_4.GCAGGAATACAGTTGGAC</th>\n",
       "    </tr>\n",
       "  </thead>\n",
       "  <tbody>\n",
       "    <tr>\n",
       "      <th>0</th>\n",
       "      <td>A2M</td>\n",
       "      <td>0</td>\n",
       "      <td>0</td>\n",
       "      <td>0</td>\n",
       "      <td>0</td>\n",
       "    </tr>\n",
       "    <tr>\n",
       "      <th>1</th>\n",
       "      <td>AAAS</td>\n",
       "      <td>0</td>\n",
       "      <td>0</td>\n",
       "      <td>0</td>\n",
       "      <td>0</td>\n",
       "    </tr>\n",
       "    <tr>\n",
       "      <th>2</th>\n",
       "      <td>AACS</td>\n",
       "      <td>1</td>\n",
       "      <td>0</td>\n",
       "      <td>0</td>\n",
       "      <td>0</td>\n",
       "    </tr>\n",
       "    <tr>\n",
       "      <th>3</th>\n",
       "      <td>AADAT</td>\n",
       "      <td>0</td>\n",
       "      <td>0</td>\n",
       "      <td>0</td>\n",
       "      <td>1</td>\n",
       "    </tr>\n",
       "    <tr>\n",
       "      <th>4</th>\n",
       "      <td>AAED1</td>\n",
       "      <td>0</td>\n",
       "      <td>0</td>\n",
       "      <td>0</td>\n",
       "      <td>0</td>\n",
       "    </tr>\n",
       "  </tbody>\n",
       "</table>\n",
       "</div>"
      ],
      "text/plain": [
       "  Gene_name  FetalBrain_4.GCAGGAAGGACTATACAG  FetalBrain_4.ATACAGAGGACTAAAGTT  \\\n",
       "0       A2M                                0                                0   \n",
       "1      AAAS                                0                                0   \n",
       "2      AACS                                1                                0   \n",
       "3     AADAT                                0                                0   \n",
       "4     AAED1                                0                                0   \n",
       "\n",
       "   FetalBrain_4.CTCCATAAAGTTGTCGGT  FetalBrain_4.GCAGGAATACAGTTGGAC  \n",
       "0                                0                                0  \n",
       "1                                0                                0  \n",
       "2                                0                                0  \n",
       "3                                0                                1  \n",
       "4                                0                                0  "
      ]
     },
     "execution_count": 17,
     "metadata": {},
     "output_type": "execute_result"
    }
   ],
   "source": [
    "Brain_4_X_drop.iloc[0:5, 0:5]"
   ]
  },
  {
   "cell_type": "markdown",
   "id": "bf8236f5-b2c7-4a79-a80e-2aaae9e6e08a",
   "metadata": {},
   "source": [
    "# Construct the graph\n",
    "Add the gene nodes\n",
    "Traverse the dataframe from columns and rows\n",
    "Construct cell-gene pairs\n",
    "All are 0 indexed\n",
    "Initialize graph by "
   ]
  },
  {
   "cell_type": "code",
   "execution_count": 18,
   "id": "1059fcd3-b02f-4bc6-b2e6-d13942283cb9",
   "metadata": {},
   "outputs": [],
   "source": [
    "# # multiprocessing call multiprocessing\n",
    "\n",
    "# start = time.perf_counter()\n",
    "\n",
    "# return_list = manager.list()\n",
    "\n",
    "# block_size = 500\n",
    "\n",
    "# # extract cellto gene data for each cell\n",
    "# def cell_graph(cell_id, dataset, return_list=return_list):\n",
    "#     if cell_id % 500 == 0:\n",
    "#         print(f'professing cell {cell_id} ...')\n",
    "#     cell = dataset.shape[0] * [cell_id-1]\n",
    "#     gene = list(range(dataset.shape[0]))\n",
    "#     weight = list(dataset.iloc[:, i])\n",
    "#     return_list.append((cell_id-1, cell, gene, weight))\n",
    "    \n",
    "# processes = []\n",
    "\n",
    "# for block in range(Brain_3_X_drop.shape[1]//block_size+1):\n",
    "    \n",
    "#     processes = []\n",
    "#     start, end = block*block_size, (block+1)*block_size\n",
    "#     if start == 0:\n",
    "#         start = 1\n",
    "# #     if bstart > Brain_3_X_drop.shape[1]:\n",
    "# #         break\n",
    "#     end = min(end, Brain_3_X_drop.shape[1])\n",
    "    \n",
    "#     for i in range(start, end):\n",
    "#         p = multiprocessing.Process(target = cell_graph, args = [i, Brain_3_X_drop, return_list])\n",
    "#         p.start()\n",
    "#         processes.append(p)\n",
    "\n",
    "#     for process in processes:\n",
    "#         process.join()\n",
    "    \n",
    "# # processes = []\n",
    "# # for i in range(2000, Brain_3_X_drop.shape[1]):\n",
    "# #     p = multiprocessing.Process(target = cell_graph, args = [i, Brain_3_X_drop, return_list])\n",
    "# #     p.start()\n",
    "# #     processes.append(p)\n",
    "    \n",
    "# # for process in processes:\n",
    "# #     process.join()\n",
    "    \n",
    "# end = time.perf_counter()\n",
    "# print(f'Reading data finished in {end-start} seconds')\n",
    "\n",
    "# blocks = list(return_list)"
   ]
  },
  {
   "cell_type": "markdown",
   "id": "819fb9ca",
   "metadata": {},
   "source": [
    "### multiprocessing cell-gene interactions for Brain_3 dataset"
   ]
  },
  {
   "cell_type": "code",
   "execution_count": 19,
   "id": "3385e183",
   "metadata": {},
   "outputs": [],
   "source": [
    "# start = time.perf_counter()\n",
    "\n",
    "# block_size  = 50\n",
    "\n",
    "# return_list = manager.list()\n",
    "\n",
    "# for i in range(Brain_3_X_drop.shape[1]//block_size+1):\n",
    "#     return_list.append(manager.list())\n",
    "\n",
    "# print('return list length:', len(return_list))\n",
    "\n",
    "# # extract cellto gene data for each cell\n",
    "# def cell_graph(cell_id, dataset, save_list):\n",
    "#     if cell_id % 500 == 0:\n",
    "#         print(f'professing cell {cell_id} ...')\n",
    "#     if cell_id == dataset.shape[1]-1:\n",
    "#         print(f'professing last cell {cell_id} ...')\n",
    "#     cell = dataset.shape[0] * [cell_id-1]\n",
    "#     gene = list(range(dataset.shape[0]))\n",
    "#     weight = list(dataset.iloc[:, i])\n",
    "#     save_list.append((cell_id-1, cell, gene, weight))\n",
    "\n",
    "# blocks = []\n",
    "# # ns = mgr.Namespace()\n",
    "# manager.Namespace().Brain_3_X_drop = Brain_3_X_drop\n",
    "\n",
    "# # balance = multiprocessing.dataframe(Brain_3_X_drop)\n",
    "\n",
    "# for i in range(len(return_list)):\n",
    "    \n",
    "#     def job_block(start, end, data, temp):\n",
    "#         processes = []\n",
    "#         for i in range(start, end):\n",
    "#             p = multiprocessing.Process(target = cell_graph, args = [i, data, temp])\n",
    "#             p.start()\n",
    "#             processes.append(p)\n",
    "#         for process in processes:\n",
    "#             process.join()\n",
    "        \n",
    "#     block_start, block_end = i*block_size, (i+1)*block_size\n",
    "#     if block_start == 0:\n",
    "#         block_start = 1\n",
    "#     if block_start > Brain_3_X_drop.shape[1]:\n",
    "#         break\n",
    "#     block_end = min(block_end, Brain_3_X_drop.shape[1])\n",
    "    \n",
    "#     block = multiprocessing.Process(target = job_block, args = [block_start, block_end, Brain_3_X_drop, return_list[i]])\n",
    "#     block.start()\n",
    "#     blocks.append(block)\n",
    "\n",
    "#     for block in blocks:\n",
    "#         block.join()\n",
    "        \n",
    "    \n",
    "# end = time.perf_counter()\n",
    "# print(f'Reading data Brain 3 finished in {end-start} seconds')\n",
    "# blocks = list(return_list)"
   ]
  },
  {
   "cell_type": "code",
   "execution_count": 20,
   "id": "0b439618-330f-4697-821c-d992b103c95f",
   "metadata": {},
   "outputs": [
    {
     "data": {
      "text/plain": [
       "2904"
      ]
     },
     "execution_count": 20,
     "metadata": {},
     "output_type": "execute_result"
    }
   ],
   "source": [
    "iterable=list(range(1, Brain_3_X_drop.shape[1]))\n",
    "len(iterable)"
   ]
  },
  {
   "cell_type": "code",
   "execution_count": 21,
   "id": "449fa1ac",
   "metadata": {},
   "outputs": [
    {
     "name": "stdout",
     "output_type": "stream",
     "text": [
      "Reading data Brain 3 finished in 7.0309642310021445 seconds\n"
     ]
    }
   ],
   "source": [
    "start = time.perf_counter()\n",
    "\n",
    "def cell_graph(cell_id, dataset):\n",
    "    if cell_id % 500 == 0:\n",
    "        print(f'professing cell {cell_id} ...')\n",
    "    if cell_id == dataset.shape[1]-1:\n",
    "        print(f'professing last cell {cell_id} ...')\n",
    "    cell = dataset.shape[0] * [cell_id-1]\n",
    "    gene = list(range(dataset.shape[0]))\n",
    "    weight = list(dataset.iloc[:, cell_id])\n",
    "    \n",
    "    return [cell_id, cell, gene, weight]\n",
    "\n",
    "\n",
    "pool = multiprocessing.Pool(11)\n",
    "temp_func = partial(cell_graph, dataset = Brain_3_X_drop)\n",
    "blocks = pool.map(func=temp_func, iterable=list(range(1, Brain_3_X_drop.shape[1])), chunksize=500)\n",
    "\n",
    "pool.close()\n",
    "pool.join()\n",
    "    \n",
    "end = time.perf_counter()\n",
    "print(f'Reading data Brain 3 finished in {end-start} seconds')"
   ]
  },
  {
   "cell_type": "code",
   "execution_count": 23,
   "id": "8fa8e64c",
   "metadata": {},
   "outputs": [],
   "source": [
    "# blocks = result_list\n",
    "Brain_3_edges = blocks\n",
    "Brain_3_edges.sort()"
   ]
  },
  {
   "cell_type": "code",
   "execution_count": 24,
   "id": "79b62a71",
   "metadata": {},
   "outputs": [
    {
     "name": "stdout",
     "output_type": "stream",
     "text": [
      "Constructing Brain 3 of cell 0 of total 2904 cells\n",
      "Constructing Brain 3 of cell 500 of total 2904 cells\n",
      "Constructing Brain 3 of cell 1000 of total 2904 cells\n",
      "Constructing Brain 3 of cell 1500 of total 2904 cells\n",
      "Constructing Brain 3 of cell 2000 of total 2904 cells\n",
      "Constructing Brain 3 of cell 2500 of total 2904 cells\n",
      "Constructing Brain 3 graph edge data finished in 1178.503403187031 seconds\n"
     ]
    }
   ],
   "source": [
    "# (cell_id-1, cell, gene, weight)\n",
    "# [ref_cell_total, ref_gene_total, que_cell_total, que_gene_total]\n",
    "start = time.perf_counter()\n",
    "\n",
    "ref_cell_total = []\n",
    "ref_gene_total = []\n",
    "ref_weight_total = []\n",
    "for i in range(len(Brain_3_edges)):\n",
    "    ref_cell_total = ref_cell_total + Brain_3_edges[i][1]\n",
    "    ref_gene_total = ref_gene_total + Brain_3_edges[i][2]\n",
    "    ref_weight_total = ref_weight_total + Brain_3_edges[i][3]\n",
    "    if i % 500 == 0:\n",
    "        print(f'Constructing Brain 3 of cell {i} of total {len(Brain_3_edges)} cells')\n",
    "\n",
    "end = time.perf_counter()\n",
    "print(f'Constructing Brain 3 graph edge data finished in {end-start} seconds')"
   ]
  },
  {
   "cell_type": "code",
   "execution_count": 25,
   "id": "559f7c2d",
   "metadata": {},
   "outputs": [],
   "source": [
    "### multiprocessing cell-gene interactions for Brain_4 dataset"
   ]
  },
  {
   "cell_type": "code",
   "execution_count": 26,
   "id": "7012c664",
   "metadata": {},
   "outputs": [],
   "source": [
    "# start = time.perf_counter()\n",
    "\n",
    "# block_size  = 50\n",
    "\n",
    "# return_list = manager.list()\n",
    "\n",
    "# for i in range(Brain_4_X_drop.shape[1]//block_size+1):\n",
    "#     return_list.append(manager.list())\n",
    "\n",
    "# print('return list length:', len(return_list))\n",
    "\n",
    "# # extract cellto gene data for each cell\n",
    "# def cell_graph(cell_id, dataset, save_list):\n",
    "#     if cell_id % 500 == 0:\n",
    "#         print(f'professing cell {cell_id} ...')\n",
    "#     if cell_id == dataset.shape[1]-1:\n",
    "#         print(f'professing last cell {cell_id} ...')\n",
    "#     cell = dataset.shape[0] * [cell_id-1]\n",
    "#     gene = list(range(dataset.shape[0]))\n",
    "#     weight = list(dataset.iloc[:, i])\n",
    "#     save_list.append((cell_id-1, cell, gene, weight))\n",
    "\n",
    "\n",
    "# # def job_block(start, end, data, temp):\n",
    "# #     processes = []\n",
    "# #     for i in range(start, end):\n",
    "# #         p = multiprocessing.Process(target = cell_graph, args = [i, data, temp])\n",
    "# #         p.start()\n",
    "# #         processes.append(p)\n",
    "    \n",
    "# #     for process in processes:\n",
    "# #         process.join()\n",
    "    \n",
    "# blocks = []\n",
    "# # ns = mgr.Namespace()\n",
    "# manager.Namespace().Brain_4_X_drop = Brain_4_X_drop\n",
    "\n",
    "# # balance = multiprocessing.dataframe(Brain_3_X_drop)\n",
    "\n",
    "# for i in range(len(return_list)):\n",
    "    \n",
    "#     def job_block(start, end, data, temp):\n",
    "#         processes = []\n",
    "#         for i in range(start, end):\n",
    "#             p = multiprocessing.Process(target = cell_graph, args = [i, data, temp])\n",
    "#             p.start()\n",
    "#             processes.append(p)\n",
    "#         for process in processes:\n",
    "#             process.join()\n",
    "        \n",
    "#     block_start, block_end = i*block_size, (i+1)*block_size\n",
    "#     if block_start == 0:\n",
    "#         block_start = 1\n",
    "#     if block_start > Brain_4_X_drop.shape[1]:\n",
    "#         break\n",
    "#     block_end = min(block_end, Brain_4_X_drop.shape[1])\n",
    "    \n",
    "#     block = multiprocessing.Process(target = job_block, args = [block_start, block_end, Brain_4_X_drop, return_list[i]])\n",
    "#     block.start()\n",
    "#     blocks.append(block)\n",
    "\n",
    "#     for block in blocks:\n",
    "#         block.join()\n",
    "        \n",
    "    \n",
    "# end = time.perf_counter()\n",
    "# print(f'Reading data Brain 4 finished in {end-start} seconds')\n",
    "# blocks = list(return_list)"
   ]
  },
  {
   "cell_type": "code",
   "execution_count": 27,
   "id": "5494dc1f",
   "metadata": {},
   "outputs": [
    {
     "name": "stdout",
     "output_type": "stream",
     "text": [
      "professing cell 500 ...\n",
      "professing cell 1000 ...\n",
      "professing cell 1500 ...\n",
      "professing cell 2000 ...\n",
      "professing cell 2500 ...\n",
      "professing cell 3000 ...\n",
      "professing cell 3500 ...\n",
      "professing last cell 3920 ...\n",
      "Reading data Brain 4 finished in 12.812315036018845 seconds\n"
     ]
    }
   ],
   "source": [
    "start = time.perf_counter()\n",
    "\n",
    "def cell_graph(cell_id, dataset):\n",
    "    if cell_id % 500 == 0:\n",
    "        print(f'professing cell {cell_id} ...')\n",
    "    if cell_id == dataset.shape[1]-1:\n",
    "        print(f'professing last cell {cell_id} ...')\n",
    "    cell = dataset.shape[0] * [cell_id-1]\n",
    "    gene = list(range(dataset.shape[0]))\n",
    "    weight = list(dataset.iloc[:, cell_id])\n",
    "    \n",
    "    return (cell_id, cell, gene, weight)\n",
    "\n",
    "\n",
    "pool = multiprocessing.Pool(11)\n",
    "temp_func = partial(cell_graph, dataset = Brain_4_X_drop)\n",
    "blocks = pool.map(func=temp_func, iterable=list(range(1, Brain_4_X_drop.shape[1])), chunksize=500)\n",
    "\n",
    "pool.close()\n",
    "pool.join()\n",
    "    \n",
    "end = time.perf_counter()\n",
    "print(f'Reading data Brain 4 finished in {end-start} seconds')"
   ]
  },
  {
   "cell_type": "code",
   "execution_count": 28,
   "id": "4ce5fc83",
   "metadata": {},
   "outputs": [],
   "source": [
    "# blocks = result_list\n",
    "Brain_4_edges = blocks\n",
    "Brain_4_edges.sort()"
   ]
  },
  {
   "cell_type": "code",
   "execution_count": 29,
   "id": "b71fd1e8",
   "metadata": {},
   "outputs": [
    {
     "name": "stdout",
     "output_type": "stream",
     "text": [
      "Constructing Brain 4 of cell 0 of total 3920 cells\n",
      "Constructing Brain 4 of cell 500 of total 3920 cells\n",
      "Constructing Brain 4 of cell 1000 of total 3920 cells\n",
      "Constructing Brain 4 of cell 1500 of total 3920 cells\n",
      "Constructing Brain 4 of cell 2000 of total 3920 cells\n",
      "Constructing Brain 4 of cell 2500 of total 3920 cells\n",
      "Constructing Brain 4 of cell 3000 of total 3920 cells\n",
      "Constructing Brain 4 of cell 3500 of total 3920 cells\n",
      "Constructing Brain 4 graph edge data finished in 2169.526200872031 seconds\n"
     ]
    }
   ],
   "source": [
    "# (cell_id-1, cell, gene, weight)\n",
    "# [ref_cell_total, ref_gene_total, que_cell_total, que_gene_total]\n",
    "start = time.perf_counter()\n",
    "\n",
    "que_cell_total = []\n",
    "que_gene_total = []\n",
    "que_weight_total = []\n",
    "for i in range(len(Brain_4_edges)):\n",
    "    que_cell_total = que_cell_total + Brain_4_edges[i][1]\n",
    "    que_gene_total = que_gene_total + Brain_4_edges[i][2]\n",
    "    que_weight_total = que_weight_total + Brain_4_edges[i][3]\n",
    "    if i % 500 == 0:\n",
    "        print(f'Constructing Brain 4 of cell {i} of total {len(Brain_4_edges)} cells')\n",
    "\n",
    "end = time.perf_counter()\n",
    "print(f'Constructing Brain 4 graph edge data finished in {end-start} seconds')"
   ]
  },
  {
   "cell_type": "code",
   "execution_count": 30,
   "id": "d679efb5-42c0-44e8-9b1b-359a5844603e",
   "metadata": {},
   "outputs": [],
   "source": [
    "# start = time.perf_counter()\n",
    "# ref_list = [Brain_3_X_drop] * (Brain_3_X_drop.shape[1]-1)\n",
    "\n",
    "# return_list = manager.list()\n",
    "\n",
    "# # extract cellto gene data for each cell\n",
    "# def cell_graph(cell_id, dataset, return_list=return_list):\n",
    "#     if cell_id % 500 == 0:\n",
    "#         print(f'professing cell {cell_id} ...')\n",
    "#     cell = dataset.shape[0] * [cell_id-1]\n",
    "#     gene = list(range(dataset.shape[0]))\n",
    "#     weight = list(dataset.iloc[:, i])\n",
    "#     return_list.append((cell_id, cell, gene, weight))\n",
    "    \n",
    "    \n",
    "# with concurrent.futures.ProcessPoolExecutor() as executor:\n",
    "#     executor.map(cell_graph, list(range(1, Brain_3_X_drop.shape[1])), ref_list)\n",
    "    \n",
    "# end = time.perf_counter()\n",
    "# print(f'Reading data finished in {end-start} seconds')\n",
    "\n",
    "# # professing cell 500 ...\n",
    "# # professing cell 1000 ...\n",
    "# # professing cell 1500 ...\n",
    "# # professing cell 2000 ...\n",
    "# # professing cell 2500 ...\n",
    "# # Reading data finished in 1694.5619887759967 seconds"
   ]
  },
  {
   "cell_type": "code",
   "execution_count": 31,
   "id": "3251164b-c62e-4d36-a185-a5c72dd1d54a",
   "metadata": {},
   "outputs": [],
   "source": [
    "# # Need to do multithreading\n",
    "# # reference dataset\n",
    "# ref_cell_total = []\n",
    "# ref_gene_total = []\n",
    "# ref_weight_total = []\n",
    "# for i in range(1, Brain_3_X_drop.shape[1]):\n",
    "#     if i % 5000 == 0:\n",
    "#         print(i)\n",
    "#     cell = Brain_3_X_drop.shape[0] * [i-1]\n",
    "#     gene = list(range(Brain_3_X_drop.shape[0]))\n",
    "#     weight = list(Brain_3_X_drop.iloc[:, i])\n",
    "#     ref_cell_total = ref_cell_total + cell\n",
    "#     ref_gene_total = ref_gene_total + gene\n",
    "#     ref_weight_total = ref_weight_total + weight\n",
    "# print(len(ref_cell_total), ref_cell_total[0:10])\n",
    "# print(len(ref_gene_total), ref_gene_total[0:10])\n",
    "# print(len(ref_weight_total), ref_weight_total[:10])"
   ]
  },
  {
   "cell_type": "code",
   "execution_count": 32,
   "id": "f7ba7d4f-330a-4f0c-bbe7-4f9edc2c160d",
   "metadata": {},
   "outputs": [],
   "source": [
    "# # query dataset\n",
    "# que_cell_total = []\n",
    "# que_gene_total = []\n",
    "# que_weight_total = []\n",
    "# for i in range(1, Brain_4_X_drop.shape[1]):\n",
    "#     if i % 5000 == 0:\n",
    "#         print(i)\n",
    "#     cell = Brain_4_X_drop.shape[0] * [i-1]\n",
    "#     gene = list(range(Brain_4_X_drop.shape[0]))\n",
    "#     weight = list(Brain_4_X_drop.iloc[:, i])\n",
    "#     que_cell_total = que_cell_total + cell\n",
    "#     que_gene_total = que_gene_total + gene\n",
    "#     que_weight_total = que_weight_total + weight\n",
    "# print(len(que_cell_total), que_cell_total[0:10])\n",
    "# print(len(que_gene_total), que_gene_total[0:10])\n",
    "# print(len(que_weight_total), que_weight_total[:10])"
   ]
  },
  {
   "cell_type": "code",
   "execution_count": 33,
   "id": "7f639847",
   "metadata": {},
   "outputs": [],
   "source": [
    "# save graph edge tensor\n",
    "import pickle\n",
    "\n",
    "# save\n",
    "with open('edges.pickle', 'wb') as handle:\n",
    "    pickle.dump([ref_cell_total, ref_gene_total, ref_weight_total, que_cell_total, que_gene_total, que_weight_total], handle)"
   ]
  },
  {
   "cell_type": "code",
   "execution_count": 34,
   "id": "6c7de00f",
   "metadata": {},
   "outputs": [
    {
     "name": "stdout",
     "output_type": "stream",
     "text": [
      "Saving edge data finished in 5.954655642970465 seconds\n"
     ]
    }
   ],
   "source": [
    "# open\n",
    "start = time.perf_counter()\n",
    "\n",
    "with open('edges.pickle', 'rb') as handle:\n",
    "    data = pickle.load(handle)\n",
    "\n",
    "end = time.perf_counter()\n",
    "print(f'Saving edge data finished in {end-start} seconds')"
   ]
  },
  {
   "cell_type": "code",
   "execution_count": null,
   "id": "07c5fb5d-4126-411e-8647-e5350d0aa617",
   "metadata": {},
   "outputs": [],
   "source": [
    "start = time.perf_counter()\n",
    "g = dgl.heterograph({\n",
    "    ('ref_cell', 'ref_cell_2_gene', 'gene') : (torch.tensor(ref_cell_total), torch.tensor(ref_gene_total)),\n",
    "    ('gene', 'gene_2_ref_cell', 'ref_cell') : (torch.tensor(ref_gene_total), torch.tensor(ref_cell_total)),\n",
    "    ('que_cell', 'que_cell_2_gene', 'gene') : (torch.tensor(que_cell_total), torch.tensor(que_gene_total)),\n",
    "    ('gene', 'gene_2_que_cell', 'que_cell') : (torch.tensor(que_gene_total), torch.tensor(que_cell_total)),\n",
    "    ('gene', 'interaction', 'gene') : (torch.tensor(inter_gene_list), torch.tensor(inter_gene_list))\n",
    "})\n"
   ]
  },
  {
   "cell_type": "code",
   "execution_count": null,
   "id": "4f382e8d-48cf-4ae1-8956-a045f47f54de",
   "metadata": {},
   "outputs": [],
   "source": [
    "g.edges['ref_cell_2_gene'].data['expression'] = th.tensor(ref_weight_total)\n",
    "g.edges['gene_2_ref_cell'].data['expression'] = th.tensor(ref_weight_total)\n",
    "g.edges['que_cell_2_gene'].data['expression'] = th.tensor(que_weight_total)\n",
    "g.edges['gene_2_que_cell'].data['expression'] = th.tensor(que_weight_total)"
   ]
  },
  {
   "cell_type": "code",
   "execution_count": null,
   "id": "31f9c4c1-f043-44cb-9630-14f5eed831eb",
   "metadata": {},
   "outputs": [],
   "source": [
    "# save the graph\n",
    "save_graphs(\"./g.bin\", g)\n",
    "end = time.perf_counter()\n",
    "print(f'Saving graph finished in {end-start} seconds')"
   ]
  },
  {
   "cell_type": "code",
   "execution_count": null,
   "id": "5dd7b33b-5496-4f86-8dc9-6d835d7d14d8",
   "metadata": {},
   "outputs": [],
   "source": [
    "# calculate the number of nodes\n",
    "n_genes = g.num_nodes('gene')\n",
    "n_ref_cell = g.num_nodes('ref_cell')\n",
    "n_que_cell = g.num_nodes('que_cell')\n",
    "\n",
    "# calculate the number of edges\n",
    "n_ref_cell_2_gene = g.number_of_edges('ref_cell_2_gene')\n",
    "n_gene_2_ref_cell = g.number_of_edges('gene_2_ref_cell')\n",
    "n_que_cell_2_gene = g.number_of_edges('que_cell_2_gene')\n",
    "n_gene_2_que_cell = g.number_of_edges('gene_2_que_cell')"
   ]
  },
  {
   "cell_type": "code",
   "execution_count": null,
   "id": "451a07e6-7b91-40ed-a2f5-a2b0c96f0f74",
   "metadata": {},
   "outputs": [],
   "source": [
    "## The node, edge features need to find an embedding\n",
    "## Need to incorporate the edge into the calculation"
   ]
  },
  {
   "cell_type": "code",
   "execution_count": null,
   "id": "904a4898-0268-4a30-bfc7-e57769dd050a",
   "metadata": {},
   "outputs": [],
   "source": [
    "input_feature = 50\n",
    "out_feature = 25\n",
    "\n",
    "# randomly generate node embeddings\n",
    "g.nodes['gene'].data['feature'] = torch.randn(n_genes, input_feature)\n",
    "g.nodes['ref_cell'].data['feature'] = torch.randn(n_ref_cell, input_feature)\n",
    "g.nodes['que_cell'].data['feature'] = torch.randn(n_que_cell, input_feature)\n",
    "\n",
    "# randomly generate edge embeddings\n",
    "g.edges['ref_cell_2_gene'].data['feature'] = torch.randn(n_ref_cell_2_gene, input_feature)\n",
    "g.edges['gene_2_ref_cell'].data['feature'] = torch.randn(n_gene_2_ref_cell, input_feature)\n",
    "g.edges['que_cell_2_gene'].data['feature'] = torch.randn(n_que_cell_2_gene, input_feature)\n",
    "g.edges['gene_2_que_cell'].data['feature'] = torch.randn(n_gene_2_que_cell, input_feature)\n",
    "\n",
    "# randomly generate training masks on user nodes and click edges\n",
    "g.nodes['gene'].data['train_mask'] = torch.zeros(n_genes, dtype=torch.bool).bernoulli(0.6)\n",
    "g.nodes['ref_cell'].data['train_mask'] = torch.zeros(n_ref_cell, dtype=torch.bool).bernoulli(0.6)\n",
    "g.ndges['que_cell'].data['train_mask'] = torch.zeros(n_que_cell, dtype=torch.bool).bernoulli(0.6)\n",
    "\n",
    "g.edges['ref_cell_2_gene'].data['train_mask'] = torch.zeros(n_ref_cell_2_gene, dtype=torch.bool).bernoulli(0.6)\n",
    "g.edges['gene_2_ref_cell'].data['train_mask'] = torch.zeros(n_gene_2_ref_cell, dtype=torch.bool).bernoulli(0.6)\n",
    "g.edges['que_cell_2_gene'].data['train_mask'] = torch.zeros(n_que_cell_2_gene, dtype=torch.bool).bernoulli(0.6)\n",
    "g.edges['gene_2_que_cell'].data['train_mask'] = torch.zeros(n_gene_2_que_cell, dtype=torch.bool).bernoulli(0.6)"
   ]
  },
  {
   "cell_type": "code",
   "execution_count": null,
   "id": "929b9ea7-dd6b-4992-a970-bd9d46ea68f0",
   "metadata": {},
   "outputs": [],
   "source": [
    "# Define a Heterograph Conv model\n",
    "class RGCN(nn.Module):\n",
    "    def __init__(self, in_feats, hid_feats, out_feats, rel_names):\n",
    "        super().__init__()\n",
    "\n",
    "        self.conv1 = dglnn.HeteroGraphConv({\n",
    "            rel: dglnn.GraphConv(in_feats, hid_feats)\n",
    "            for rel in rel_names}, aggregate='sum')\n",
    "        self.conv2 = dglnn.HeteroGraphConv({\n",
    "            rel: dglnn.GraphConv(hid_feats, out_feats)\n",
    "            for rel in rel_names}, aggregate='sum')\n",
    "\n",
    "    def forward(self, graph, inputs):\n",
    "        # inputs are features of nodes\n",
    "        h = self.conv1(graph, inputs)\n",
    "        h = {k: F.relu(v) for k, v in h.items()}\n",
    "        h = self.conv2(graph, h)\n",
    "        return h"
   ]
  },
  {
   "cell_type": "code",
   "execution_count": null,
   "id": "848b8775-27d3-4ced-ad42-af20e8b1ef6e",
   "metadata": {},
   "outputs": [],
   "source": [
    "model = RGCN(input_features, 25, out_feature, g.etypes)\n",
    "\n",
    "gene_feats = g.nodes['gene'].data['feature']\n",
    "ref_cell_feats = g.nodes['ref_cell'].data['feature']\n",
    "que_cell_feats = g.nodes['que_cell'].data['feature']\n",
    "\n",
    "ref_cell_2_gene_feats = g.edges['ref_cell_2_gene'].data['feature']\n",
    "gene_2_ref_cell_feats = g.edges['gene_2_ref_cell'].data['feature']\n",
    "que_cell_2_gene_feats = g.edges['que_cell_2_gene'].data['feature']\n",
    "gene_2_que_cell_feats = g.edges['gene_2_que_cell'].data['feature']\n",
    "\n",
    "ref_cell_mask = g.nodes['ref_cell'].data['train_mask']\n",
    "que_cell_mask = g.nodes['que_cell'].data['train_mask']\n",
    "# how about validation mask?"
   ]
  },
  {
   "cell_type": "code",
   "execution_count": null,
   "id": "d804a5eb-72e2-47df-a3e0-cc1a84ef026a",
   "metadata": {},
   "outputs": [],
   "source": [
    "# use all the node and edge features\n",
    "node_edge_features = {'gene': gene_feats, 'ref_cell': ref_cell_feats, 'que_cell': que_cell_feats, 'ref_cell_2_gene': ref_cell_2_gene_feats,\n",
    "                 'gene_2_ref_cell': gene_2_ref_cell_feats, 'que_cell_2_gene': que_cell_2_gene_feats, 'gene_2_que_cell': gene_2_que_cell_feats}\n",
    "\n",
    "embedding = model(g, node_edge_features)\n",
    "               \n",
    "gene_embedding = embedding['gene']\n",
    "ref_cell_embedding = embedding['ref_cell']\n",
    "que_cell_embedding = embedding['que_cell']\n",
    "print(len(embedding))\n",
    "print(embedding)"
   ]
  },
  {
   "cell_type": "code",
   "execution_count": null,
   "id": "7b5eba09-3c9c-4a96-a71a-be886f9a9b62",
   "metadata": {},
   "outputs": [],
   "source": [
    "# use only node features\n",
    "node_features = {'gene': gene_feats, 'ref_cell': ref_cell_feats, 'que_cell': que_cell_feats}\n",
    "\n",
    "embedding = model(g, node_features)\n",
    "               \n",
    "gene_embedding = embedding['gene']\n",
    "ref_cell_embedding = embedding['ref_cell']\n",
    "que_cell_embedding = embedding['que_cell']\n",
    "print(len(embedding))\n",
    "print(embedding)"
   ]
  },
  {
   "cell_type": "code",
   "execution_count": null,
   "id": "e0725be0-66a1-406b-9322-5b1c1b2d0fd5",
   "metadata": {},
   "outputs": [],
   "source": [
    "true_ref_cell_dis_matrix = euclidean_distances(ref_cell_feats, ref_cell_feats)\n",
    "true_que_cell_dis_matrix = euclidean_distances(ref_cell_feats, ref_cell_feats)\n",
    "print(true_ref_cell_dis_matrix.shape)\n",
    "print(true_que_cell_dis_matrix.shape)"
   ]
  },
  {
   "cell_type": "code",
   "execution_count": null,
   "id": "790d9a86-894c-4662-a14b-b38bfd0a31b9",
   "metadata": {},
   "outputs": [],
   "source": [
    "# need to change the evaluation to something else\n",
    "# how to calculat the similarity matrix between cells in high dimension?\n",
    "def evaluate(model, graph, features, labels, mask):\n",
    "    model.eval()\n",
    "    with torch.no_grad():\n",
    "        logits = model(graph, features)\n",
    "        logits = logits[mask]\n",
    "        labels = labels[mask]\n",
    "        _, indices = torch.max(logits, dim=1)\n",
    "        correct = torch.sum(indices == labels)\n",
    "        return correct.item() * 1.0 / len(labels)"
   ]
  },
  {
   "cell_type": "code",
   "execution_count": null,
   "id": "876c13ac-2b89-4e4f-81d6-b9d25c21d716",
   "metadata": {},
   "outputs": [],
   "source": [
    "opt = torch.optim.Adam(model.parameters())\n",
    "loss_func = nn.MSELoss()"
   ]
  },
  {
   "cell_type": "code",
   "execution_count": null,
   "id": "aa8923ed-a53e-425c-a250-072954937be5",
   "metadata": {},
   "outputs": [],
   "source": [
    "for epoch in range(5):\n",
    "    model.train()\n",
    "    pred = model(g, node_features)\n",
    "    # compute loss\n",
    "    pred_ref_cell_feats = pred['ref_cell']\n",
    "    print('pred ref cell feature shape:', pred_ref_cell_feats.shape)\n",
    "    pred_que_cell_feats = pred['que_cell']\n",
    "    print('pred que cell feature shape:', pred_que_cell_feats.shape)\n",
    "    \n",
    "    train_pred_ref_cell_feats = pred_ref_cell_feats[ref_cell_mask]\n",
    "    train_pred_que_cell_feats = pred_que_cell_feats[que_cell_mask]\n",
    "    \n",
    "#     val_pred_ref_cell_feats = pred_ref_cell_feats[1-ref_cell_mask]\n",
    "#     val_pred_que_cell_feats = pred_que_cell_feats[1-que_cell_mask]\n",
    "    \n",
    "    pred_ref_cell_dis_matrix = euclidean_distances(pred_ref_cell_feats, pred_ref_cell_feats)\n",
    "    pred_que_cell_dis_matrix = euclidean_distances(pred_que_cell_feats, pred_que_cell_feats)\n",
    "    \n",
    "    loss = loss_func(pred_ref_cell_dis_matrix, true_ref_cell_dis_matrix) + loss_func(pred_que_cell_dis_matrix, true_que_cell_dis_matrix)\n",
    "\n",
    "    opt.zero_grad()\n",
    "    loss.backward()\n",
    "    opt.step()\n",
    "    print(loss.item())\n"
   ]
  },
  {
   "cell_type": "code",
   "execution_count": null,
   "id": "1a7bbaf6",
   "metadata": {},
   "outputs": [],
   "source": []
  }
 ],
 "metadata": {
  "interpreter": {
   "hash": "786ed3fe0a36c3e8dfcd2c66823dd7d00c74ce9be30420d9720072450e5ef9e7"
  },
  "kernelspec": {
   "display_name": "Python 3.9.7 64-bit ('dgl_07': conda)",
   "name": "python3"
  },
  "language_info": {
   "codemirror_mode": {
    "name": "ipython",
    "version": 3
   },
   "file_extension": ".py",
   "mimetype": "text/x-python",
   "name": "python",
   "nbconvert_exporter": "python",
   "pygments_lexer": "ipython3",
   "version": "3.9.7"
  }
 },
 "nbformat": 4,
 "nbformat_minor": 5
}
