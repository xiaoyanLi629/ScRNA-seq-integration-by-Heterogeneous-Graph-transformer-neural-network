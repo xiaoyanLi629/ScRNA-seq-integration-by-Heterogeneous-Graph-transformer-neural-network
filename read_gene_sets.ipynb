{
 "cells": [
  {
   "cell_type": "code",
   "execution_count": 1,
   "id": "fde8b72b-1cf8-41c0-90d6-864acaea40da",
   "metadata": {},
   "outputs": [],
   "source": [
    "from sklearn.metrics.pairwise import euclidean_distances\n",
    "import pickle"
   ]
  },
  {
   "cell_type": "code",
   "execution_count": 2,
   "id": "30e01056-d01d-4588-b432-96c9808a412b",
   "metadata": {},
   "outputs": [
    {
     "name": "stdout",
     "output_type": "stream",
     "text": [
      "[('HALLMARK_TNFA_SIGNALING_VIA_NFKB', ['3726', '2920', '467', '4792', '7128', '5743', '2919', '8870', '9308', '6364', '2921', '23764', '4791', '7127', '1839', '1316', '330', '5329', '7538', '3383', '3725', '1960', '3553', '597', '23645', '80149', '6648', '4929', '3552', '5971', '7185', '7832', '1843', '1326', '2114', '2152', '6385', '1958', '3569', '7124', '23135', '4790', '3976', '5806', '8061', '3164', '182', '6351', '2643', '6347', '1827', '1844', '10938', '9592', '5966', '8837', '8767', '4794', '8013', '22822', '51278', '8744', '2669', '1647', '3627', '10769', '8553', '1959', '9021', '11182', '5734', '1847', '5055', '4783', '5054', '10221', '25976', '5970', '329', '6372', '9516', '7130', '960', '3624', '5328', '4609', '3604', '6446', '10318', '10135', '2355', '10957', '3398', '969', '3575', '1942', '7262', '5209', '6352', '79693', '3460', '8878', '10950', '4616', '8942', '50486', '694', '4170', '7422', '5606', '1026', '3491', '10010', '3433', '3606', '7280', '3659', '2353', '4973', '388', '374', '4814', '65986', '8613', '9314', '6373', '6303', '1435', '1880', '56937', '5791', '7097', '57007', '7071', '4082', '3914', '1051', '9322', '2150', '687', '3949', '7050', '127544', '55332', '2683', '11080', '1437', '5142', '8303', '5341', '6776', '23258', '595', '23586', '8877', '941', '25816', '57018', '2526', '9034', '80176', '8848', '9334', '150094', '23529', '4780', '2354', '5187', '10725', '490', '3593', '3572', '9120', '19', '3280', '604', '8660', '6515', '1052', '51561', '4088', '6890', '9242', '64135', '3601', '79155', '602', '24145', '24147', '1906', '10209', '650', '1846', '10611', '23308', '9945', '10365', '3371', '5271', '4084'])]\n"
     ]
    }
   ],
   "source": [
    "with open('./gene_sets/msigdb_v7.4_GMTs/h.all.v7.4.entrez.gmt') as gmt:\n",
    "    gene_list = gmt.read()\n",
    "\n",
    "from collections import defaultdict\n",
    "\n",
    "gene_str = str(gene_list)\n",
    "gene_list = gene_str.split()\n",
    "\n",
    "gene_sets_entrez = defaultdict(list)\n",
    "\n",
    "# print(gene_list[:100])\n",
    "indicator = 0\n",
    "for ele in gene_list:\n",
    "    if not ele.isnumeric() and indicator == 1:\n",
    "        indicator = 0\n",
    "        continue\n",
    "    if not ele.isnumeric() and indicator == 0:\n",
    "        indicator = 1\n",
    "        gene_set_name = ele\n",
    "    else:\n",
    "        gene_sets_entrez[gene_set_name].append(ele)\n",
    "\n",
    "print(list(gene_sets_entrez.items())[:1])\n"
   ]
  },
  {
   "cell_type": "code",
   "execution_count": 3,
   "id": "bd50cfa9-9f40-4b17-b1af-c0b8f174b806",
   "metadata": {},
   "outputs": [
    {
     "name": "stdout",
     "output_type": "stream",
     "text": [
      "[('HALLMARK_TNFA_SIGNALING_VIA_NFKB', ['JUNB', 'CXCL2', 'ATF3', 'NFKBIA', 'TNFAIP3', 'PTGS2', 'CXCL1', 'IER3', 'CD83', 'CCL20', 'CXCL3', 'MAFF', 'NFKB2', 'TNFAIP2', 'HBEGF', 'KLF6', 'BIRC3', 'PLAUR', 'ZFP36', 'ICAM1', 'JUN', 'EGR3', 'IL1B', 'BCL2A1', 'PPP1R15A', 'ZC3H12A', 'SOD2', 'NR4A2', 'IL1A', 'RELB', 'TRAF1', 'BTG2', 'DUSP1', 'MAP3K8', 'ETS2', 'F3', 'SDC4', 'EGR1', 'IL6', 'TNF', 'KDM6B', 'NFKB1', 'LIF', 'PTX3', 'FOSL1', 'NR4A1', 'JAG1', 'CCL4', 'GCH1', 'CCL2', 'RCAN1', 'DUSP2', 'EHD1', 'IER2', 'REL', 'CFLAR', 'RIPK2', 'NFKBIE', 'NR4A3', 'PHLDA1', 'IER5', 'TNFSF9', 'GEM', 'GADD45A', 'CXCL10', 'PLK2', 'BHLHE40', 'EGR2', 'SOCS3', 'SLC2A6', 'PTGER4', 'DUSP5', 'SERPINB2', 'NFIL3', 'SERPINE1', 'TRIB1', 'TIPARP', 'RELA', 'BIRC2', 'CXCL6', 'LITAF', 'TNFAIP6', 'CD44', 'INHBA', 'PLAU', 'MYC', 'TNFRSF9', 'SGK1', 'TNIP1', 'NAMPT', 'FOSL2', 'PNRC1', 'ID2', 'CD69', 'IL7R', 'EFNA1', 'PHLDA2', 'PFKFB3', 'CCL5', 'YRDC', 'IFNGR2', 'SQSTM1', 'BTG3', 'GADD45B', 'KYNU', 'G0S2', 'BTG1', 'MCL1', 'VEGFA', 'MAP2K3', 'CDKN1A', 'CCN1', 'TANK', 'IFIT2', 'IL18', 'TUBB2A', 'IRF1', 'FOS', 'OLR1', 'RHOB', 'AREG', 'NINJ1', 'ZBTB10', 'PLPP3', 'KLF4', 'CXCL11', 'SAT1', 'CSF1', 'GPR183', 'PMEPA1', 'PTPRE', 'TLR2', 'ACKR3', 'KLF10', 'MARCKS', 'LAMB3', 'CEBPB', 'TRIP10', 'F2RL1', 'KLF9', 'LDLR', 'TGIF1', 'RNF19B', 'DRAM1', 'B4GALT1', 'DNAJB4', 'CSF2', 'PDE4B', 'SNN', 'PLEK', 'STAT5A', 'DENND5A', 'CCND1', 'DDX58', 'SPHK1', 'CD80', 'TNFAIP8', 'CCNL1', 'FUT4', 'CCRL2', 'SPSB1', 'TSC22D1', 'B4GALT5', 'SIK1', 'CLCF1', 'NFE2L2', 'FOSB', 'PER1', 'NFAT5', 'ATP2B1', 'IL12B', 'IL6ST', 'SLC16A6', 'ABCA1', 'HES1', 'BCL6', 'IRS2', 'SLC2A3', 'CEBPD', 'IL23A', 'SMAD3', 'TAP1', 'MSC', 'IFIH1', 'IL15RA', 'TNIP2', 'BCL3', 'PANX1', 'FJX1', 'EDN1', 'EIF1', 'BMP2', 'DUSP4', 'PDLIM5', 'ICOSLG', 'GFPT2', 'KLF2', 'TNC', 'SERPINB8', 'MXD1'])]\n"
     ]
    }
   ],
   "source": [
    "with open('./gene_sets/msigdb_v7.4_GMTs/h.all.v7.4.symbols.gmt') as gmt:\n",
    "    gene_list = gmt.read()\n",
    "\n",
    "gene_str = str(gene_list)\n",
    "gene_list = gene_str.split()\n",
    "\n",
    "gene_sets_symbols = defaultdict(list)\n",
    "\n",
    "# print(gene_list[:100])\n",
    "for ele in gene_list:\n",
    "    if ele in gene_sets_entrez:\n",
    "        gene_set_name = ele\n",
    "    elif not ele.startswith( 'http://' ):\n",
    "        gene_sets_symbols[gene_set_name].append(ele)\n",
    "\n",
    "print(list(gene_sets_symbols.items())[:1])"
   ]
  },
  {
   "cell_type": "markdown",
   "metadata": {},
   "source": [
    "Read the intersection genes of Brain3 and Brain4"
   ]
  },
  {
   "cell_type": "code",
   "execution_count": 4,
   "id": "32d4782b-4a02-427a-8f8d-890ee7c789f0",
   "metadata": {},
   "outputs": [],
   "source": [
    "# with open('inter_gene_list.pkl', 'rb') as f:\n",
    "# \tinter_gene_list = pickle.load(f)\n",
    "# print(inter_gene_list[:5])"
   ]
  },
  {
   "cell_type": "code",
   "execution_count": 5,
   "metadata": {},
   "outputs": [
    {
     "data": {
      "text/plain": [
       "4383"
      ]
     },
     "execution_count": 5,
     "metadata": {},
     "output_type": "execute_result"
    }
   ],
   "source": [
    "# all the genes in the gene sets\n",
    "gene_set = set()\n",
    "\n",
    "for set_ in gene_sets_symbols:\n",
    "\tgene_set = gene_set.union(set(gene_sets_symbols[set_]))\n",
    "\n",
    "len(gene_set)"
   ]
  },
  {
   "cell_type": "code",
   "execution_count": 6,
   "metadata": {},
   "outputs": [],
   "source": [
    "# gene in gene set but not in collected data\n",
    "gene_set_not_in_data = []\n",
    "# gene in collected data but not in gene set\n",
    "gene_data_not_in_set = []"
   ]
  },
  {
   "cell_type": "code",
   "execution_count": 7,
   "metadata": {},
   "outputs": [],
   "source": [
    "# for gene in gene_set:\n",
    "# \tif gene not in inter_gene_list:\n",
    "# \t\tgene_set_not_in_data.append(gene)\n",
    "\n",
    "# for gene in inter_gene_list:\n",
    "# \tif gene not in gene_set:\n",
    "# \t\tgene_data_not_in_set.append(gene)\n",
    "\n",
    "# print(\"gene_set_not_in_data length:\", len(gene_set_not_in_data))\n",
    "# print(\"gene_data_not_in_set length\", len(gene_data_not_in_set))\n",
    "# print('gene set length:', len(gene_set))\n",
    "# print('inter_gene_list length:', len(inter_gene_list))"
   ]
  }
 ],
 "metadata": {
  "interpreter": {
   "hash": "16fdec4dbab4f6f8d225df5cc1745ef0c64e10a3312a12d8f37d4c1010a81ff5"
  },
  "kernelspec": {
   "display_name": "Python 3.9.7 64-bit ('Dgl_07': conda)",
   "name": "python3"
  },
  "language_info": {
   "codemirror_mode": {
    "name": "ipython",
    "version": 3
   },
   "file_extension": ".py",
   "mimetype": "text/x-python",
   "name": "python",
   "nbconvert_exporter": "python",
   "pygments_lexer": "ipython3",
   "version": "3.9.7"
  }
 },
 "nbformat": 4,
 "nbformat_minor": 5
}
